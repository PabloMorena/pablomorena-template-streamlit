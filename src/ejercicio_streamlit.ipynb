{
    "cells": [
        {
            "cell_type": "markdown",
            "metadata": {},
            "source": [
                "# Explore here"
            ]
        },
        {
            "cell_type": "code",
            "execution_count": 7,
            "metadata": {},
            "outputs": [],
            "source": [
                "# Your code here\n",
                "import pandas as pd\n",
                "import numpy as np\n",
                "\n",
                "import matplotlib.pyplot as plt\n",
                "import seaborn as sns\n",
                "\n",
                "\n",
                "from sklearn.model_selection import train_test_split\n",
                "\n",
                "from sklearn import tree\n",
                "from sklearn.tree import DecisionTreeClassifier\n",
                "\n",
                "from sklearn.metrics import accuracy_score\n",
                "from sklearn.metrics import f1_score\n",
                "from sklearn.metrics import precision_score\n",
                "from sklearn.metrics import recall_score\n",
                "from sklearn.metrics import classification_report\n",
                "\n",
                "from pickle import dump\n",
                "\n",
                "import plotly.express as px\n",
                "import streamlit as st\n",
                "\n",
                "import warnings"
            ]
        },
        {
            "cell_type": "code",
            "execution_count": 2,
            "metadata": {},
            "outputs": [
                {
                    "name": "stderr",
                    "output_type": "stream",
                    "text": [
                        "2025-05-19 14:35:01.559 Thread 'MainThread': missing ScriptRunContext! This warning can be ignored when running in bare mode.\n",
                        "2025-05-19 14:35:01.732 \n",
                        "  \u001b[33m\u001b[1mWarning:\u001b[0m to view this Streamlit app on a browser, run it with the following\n",
                        "  command:\n",
                        "\n",
                        "    streamlit run /home/vscode/.local/lib/python3.11/site-packages/ipykernel_launcher.py [ARGUMENTS]\n",
                        "2025-05-19 14:35:01.733 Thread 'MainThread': missing ScriptRunContext! This warning can be ignored when running in bare mode.\n",
                        "2025-05-19 14:35:01.734 \n",
                        "`st.cache` is deprecated and will be removed soon. Please use one of Streamlit's new\n",
                        "caching commands, `st.cache_data` or `st.cache_resource`. More information\n",
                        "[in our docs](https://docs.streamlit.io/develop/concepts/architecture/caching).\n",
                        "\n",
                        "**Note**: The behavior of `st.cache` was updated in Streamlit 1.36 to the new caching\n",
                        "logic used by `st.cache_data` and `st.cache_resource`. This might lead to some problems\n",
                        "or unexpected behavior in certain edge cases.\n",
                        "\n",
                        "2025-05-19 14:35:01.735 No runtime found, using MemoryCacheStorageManager\n",
                        "2025-05-19 14:35:01.736 No runtime found, using MemoryCacheStorageManager\n",
                        "2025-05-19 14:35:01.737 Thread 'MainThread': missing ScriptRunContext! This warning can be ignored when running in bare mode.\n",
                        "2025-05-19 14:35:01.737 Thread 'MainThread': missing ScriptRunContext! This warning can be ignored when running in bare mode.\n",
                        "2025-05-19 14:35:01.738 Thread 'MainThread': missing ScriptRunContext! This warning can be ignored when running in bare mode.\n",
                        "2025-05-19 14:35:01.905 Thread 'MainThread': missing ScriptRunContext! This warning can be ignored when running in bare mode.\n",
                        "2025-05-19 14:35:01.905 Thread 'MainThread': missing ScriptRunContext! This warning can be ignored when running in bare mode.\n",
                        "2025-05-19 14:35:01.906 Thread 'MainThread': missing ScriptRunContext! This warning can be ignored when running in bare mode.\n",
                        "2025-05-19 14:35:01.907 Thread 'MainThread': missing ScriptRunContext! This warning can be ignored when running in bare mode.\n",
                        "2025-05-19 14:35:01.907 Thread 'MainThread': missing ScriptRunContext! This warning can be ignored when running in bare mode.\n",
                        "2025-05-19 14:35:01.908 Thread 'MainThread': missing ScriptRunContext! This warning can be ignored when running in bare mode.\n",
                        "2025-05-19 14:35:01.909 Thread 'MainThread': missing ScriptRunContext! This warning can be ignored when running in bare mode.\n",
                        "2025-05-19 14:35:01.909 Thread 'MainThread': missing ScriptRunContext! This warning can be ignored when running in bare mode.\n",
                        "2025-05-19 14:35:01.925 Thread 'MainThread': missing ScriptRunContext! This warning can be ignored when running in bare mode.\n",
                        "2025-05-19 14:35:01.926 Thread 'MainThread': missing ScriptRunContext! This warning can be ignored when running in bare mode.\n"
                    ]
                }
            ],
            "source": [
                "@st.cache(ttl=60*5, max_entries=20)\n",
                "\n",
                "def load_data():\n",
                "    data = pd.read_csv('https://raw.githubusercontent.com/4GeeksAcademy/decision-tree-project-tutorial/main/diabetes.csv')\n",
                "    return data\n",
                "data = load_data()\n",
                "\n",
                "st.markdown('<style>description{color:yellow;}</style>', unsafe_allow_html=True)\n",
                "st.title('Predicción sobre la diabetes de un individuo')\n",
                "st.sidebar.title('Select the parameters to analyze diabetes prediction')\n",
                "\n",
                "st.write(data)"
            ]
        }
    ],
    "metadata": {
        "kernelspec": {
            "display_name": "Python 3",
            "language": "python",
            "name": "python3"
        },
        "language_info": {
            "codemirror_mode": {
                "name": "ipython",
                "version": 3
            },
            "file_extension": ".py",
            "mimetype": "text/x-python",
            "name": "python",
            "nbconvert_exporter": "python",
            "pygments_lexer": "ipython3",
            "version": "3.11.4"
        },
        "orig_nbformat": 4
    },
    "nbformat": 4,
    "nbformat_minor": 2
}
